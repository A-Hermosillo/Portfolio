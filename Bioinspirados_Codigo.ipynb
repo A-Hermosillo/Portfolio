{
  "nbformat": 4,
  "nbformat_minor": 0,
  "metadata": {
    "colab": {
      "provenance": [],
      "collapsed_sections": []
    },
    "kernelspec": {
      "name": "python3",
      "display_name": "Python 3"
    },
    "language_info": {
      "name": "python"
    }
  },
  "cells": [
    {
      "cell_type": "markdown",
      "source": [
        "# Proyecto VRP"
      ],
      "metadata": {
        "id": "hiz1cAoP9fdk"
      }
    },
    {
      "cell_type": "markdown",
      "source": [
        "## Estudiantes"
      ],
      "metadata": {
        "id": "eLBAJnra9kai"
      }
    },
    {
      "cell_type": "markdown",
      "source": [
        "### Librerías"
      ],
      "metadata": {
        "id": "wb2fEt-Q9mB-"
      }
    },
    {
      "cell_type": "code",
      "execution_count": null,
      "metadata": {
        "id": "Wbp-5eGA5qop"
      },
      "outputs": [],
      "source": [
        "import pandas as pd\n",
        "import numpy as np\n",
        "import random\n",
        "import math\n",
        "\n",
        "from functools import cmp_to_key\n",
        "\n",
        "import seaborn as sns\n",
        "import matplotlib.pyplot as plt"
      ]
    },
    {
      "cell_type": "code",
      "source": [
        "from google.colab import drive\n",
        "drive.mount('/content/drive')"
      ],
      "metadata": {
        "colab": {
          "base_uri": "https://localhost:8080/"
        },
        "id": "ZICpqkct1m8I",
        "outputId": "dbe24355-945b-4cb3-d0a8-86798e277c61"
      },
      "execution_count": null,
      "outputs": [
        {
          "output_type": "stream",
          "name": "stdout",
          "text": [
            "Drive already mounted at /content/drive; to attempt to forcibly remount, call drive.mount(\"/content/drive\", force_remount=True).\n"
          ]
        }
      ]
    },
    {
      "cell_type": "markdown",
      "source": [
        "### Limpieza de datos"
      ],
      "metadata": {
        "id": "uMYxdrJW9o6c"
      }
    },
    {
      "cell_type": "code",
      "source": [
        "url = '/content/drive/Shareddrives/Bioinspirados/Reto/Data/RC201.xlsx'\n",
        "df = pd.read_excel(url)\n",
        "df.head()"
      ],
      "metadata": {
        "colab": {
          "base_uri": "https://localhost:8080/",
          "height": 206
        },
        "id": "wjODEclb6OA8",
        "outputId": "d047eab7-cfae-4eb5-dc44-0e0813d15be7"
      },
      "execution_count": null,
      "outputs": [
        {
          "output_type": "execute_result",
          "data": {
            "text/plain": [
              "   Cust. No  XCOORD  YCOORD  DEMAND  READY_TIME  DUE_DATE  SERVICE_TIME\n",
              "0       1.0    40.0    50.0     0.0         0.0     960.0           0.0\n",
              "1       2.0    25.0    85.0    20.0       673.0     793.0          10.0\n",
              "2       3.0    22.0    75.0    30.0       152.0     272.0          10.0\n",
              "3       4.0    22.0    85.0    10.0       471.0     591.0          10.0\n",
              "4       5.0    20.0    80.0    40.0       644.0     764.0          10.0"
            ],
            "text/html": [
              "\n",
              "  <div id=\"df-930332ae-fc82-4164-ad28-4705219e43b5\">\n",
              "    <div class=\"colab-df-container\">\n",
              "      <div>\n",
              "<style scoped>\n",
              "    .dataframe tbody tr th:only-of-type {\n",
              "        vertical-align: middle;\n",
              "    }\n",
              "\n",
              "    .dataframe tbody tr th {\n",
              "        vertical-align: top;\n",
              "    }\n",
              "\n",
              "    .dataframe thead th {\n",
              "        text-align: right;\n",
              "    }\n",
              "</style>\n",
              "<table border=\"1\" class=\"dataframe\">\n",
              "  <thead>\n",
              "    <tr style=\"text-align: right;\">\n",
              "      <th></th>\n",
              "      <th>Cust. No</th>\n",
              "      <th>XCOORD</th>\n",
              "      <th>YCOORD</th>\n",
              "      <th>DEMAND</th>\n",
              "      <th>READY_TIME</th>\n",
              "      <th>DUE_DATE</th>\n",
              "      <th>SERVICE_TIME</th>\n",
              "    </tr>\n",
              "  </thead>\n",
              "  <tbody>\n",
              "    <tr>\n",
              "      <th>0</th>\n",
              "      <td>1.0</td>\n",
              "      <td>40.0</td>\n",
              "      <td>50.0</td>\n",
              "      <td>0.0</td>\n",
              "      <td>0.0</td>\n",
              "      <td>960.0</td>\n",
              "      <td>0.0</td>\n",
              "    </tr>\n",
              "    <tr>\n",
              "      <th>1</th>\n",
              "      <td>2.0</td>\n",
              "      <td>25.0</td>\n",
              "      <td>85.0</td>\n",
              "      <td>20.0</td>\n",
              "      <td>673.0</td>\n",
              "      <td>793.0</td>\n",
              "      <td>10.0</td>\n",
              "    </tr>\n",
              "    <tr>\n",
              "      <th>2</th>\n",
              "      <td>3.0</td>\n",
              "      <td>22.0</td>\n",
              "      <td>75.0</td>\n",
              "      <td>30.0</td>\n",
              "      <td>152.0</td>\n",
              "      <td>272.0</td>\n",
              "      <td>10.0</td>\n",
              "    </tr>\n",
              "    <tr>\n",
              "      <th>3</th>\n",
              "      <td>4.0</td>\n",
              "      <td>22.0</td>\n",
              "      <td>85.0</td>\n",
              "      <td>10.0</td>\n",
              "      <td>471.0</td>\n",
              "      <td>591.0</td>\n",
              "      <td>10.0</td>\n",
              "    </tr>\n",
              "    <tr>\n",
              "      <th>4</th>\n",
              "      <td>5.0</td>\n",
              "      <td>20.0</td>\n",
              "      <td>80.0</td>\n",
              "      <td>40.0</td>\n",
              "      <td>644.0</td>\n",
              "      <td>764.0</td>\n",
              "      <td>10.0</td>\n",
              "    </tr>\n",
              "  </tbody>\n",
              "</table>\n",
              "</div>\n",
              "      <button class=\"colab-df-convert\" onclick=\"convertToInteractive('df-930332ae-fc82-4164-ad28-4705219e43b5')\"\n",
              "              title=\"Convert this dataframe to an interactive table.\"\n",
              "              style=\"display:none;\">\n",
              "        \n",
              "  <svg xmlns=\"http://www.w3.org/2000/svg\" height=\"24px\"viewBox=\"0 0 24 24\"\n",
              "       width=\"24px\">\n",
              "    <path d=\"M0 0h24v24H0V0z\" fill=\"none\"/>\n",
              "    <path d=\"M18.56 5.44l.94 2.06.94-2.06 2.06-.94-2.06-.94-.94-2.06-.94 2.06-2.06.94zm-11 1L8.5 8.5l.94-2.06 2.06-.94-2.06-.94L8.5 2.5l-.94 2.06-2.06.94zm10 10l.94 2.06.94-2.06 2.06-.94-2.06-.94-.94-2.06-.94 2.06-2.06.94z\"/><path d=\"M17.41 7.96l-1.37-1.37c-.4-.4-.92-.59-1.43-.59-.52 0-1.04.2-1.43.59L10.3 9.45l-7.72 7.72c-.78.78-.78 2.05 0 2.83L4 21.41c.39.39.9.59 1.41.59.51 0 1.02-.2 1.41-.59l7.78-7.78 2.81-2.81c.8-.78.8-2.07 0-2.86zM5.41 20L4 18.59l7.72-7.72 1.47 1.35L5.41 20z\"/>\n",
              "  </svg>\n",
              "      </button>\n",
              "      \n",
              "  <style>\n",
              "    .colab-df-container {\n",
              "      display:flex;\n",
              "      flex-wrap:wrap;\n",
              "      gap: 12px;\n",
              "    }\n",
              "\n",
              "    .colab-df-convert {\n",
              "      background-color: #E8F0FE;\n",
              "      border: none;\n",
              "      border-radius: 50%;\n",
              "      cursor: pointer;\n",
              "      display: none;\n",
              "      fill: #1967D2;\n",
              "      height: 32px;\n",
              "      padding: 0 0 0 0;\n",
              "      width: 32px;\n",
              "    }\n",
              "\n",
              "    .colab-df-convert:hover {\n",
              "      background-color: #E2EBFA;\n",
              "      box-shadow: 0px 1px 2px rgba(60, 64, 67, 0.3), 0px 1px 3px 1px rgba(60, 64, 67, 0.15);\n",
              "      fill: #174EA6;\n",
              "    }\n",
              "\n",
              "    [theme=dark] .colab-df-convert {\n",
              "      background-color: #3B4455;\n",
              "      fill: #D2E3FC;\n",
              "    }\n",
              "\n",
              "    [theme=dark] .colab-df-convert:hover {\n",
              "      background-color: #434B5C;\n",
              "      box-shadow: 0px 1px 3px 1px rgba(0, 0, 0, 0.15);\n",
              "      filter: drop-shadow(0px 1px 2px rgba(0, 0, 0, 0.3));\n",
              "      fill: #FFFFFF;\n",
              "    }\n",
              "  </style>\n",
              "\n",
              "      <script>\n",
              "        const buttonEl =\n",
              "          document.querySelector('#df-930332ae-fc82-4164-ad28-4705219e43b5 button.colab-df-convert');\n",
              "        buttonEl.style.display =\n",
              "          google.colab.kernel.accessAllowed ? 'block' : 'none';\n",
              "\n",
              "        async function convertToInteractive(key) {\n",
              "          const element = document.querySelector('#df-930332ae-fc82-4164-ad28-4705219e43b5');\n",
              "          const dataTable =\n",
              "            await google.colab.kernel.invokeFunction('convertToInteractive',\n",
              "                                                     [key], {});\n",
              "          if (!dataTable) return;\n",
              "\n",
              "          const docLinkHtml = 'Like what you see? Visit the ' +\n",
              "            '<a target=\"_blank\" href=https://colab.research.google.com/notebooks/data_table.ipynb>data table notebook</a>'\n",
              "            + ' to learn more about interactive tables.';\n",
              "          element.innerHTML = '';\n",
              "          dataTable['output_type'] = 'display_data';\n",
              "          await google.colab.output.renderOutput(dataTable, element);\n",
              "          const docLink = document.createElement('div');\n",
              "          docLink.innerHTML = docLinkHtml;\n",
              "          element.appendChild(docLink);\n",
              "        }\n",
              "      </script>\n",
              "    </div>\n",
              "  </div>\n",
              "  "
            ]
          },
          "metadata": {},
          "execution_count": 247
        }
      ]
    },
    {
      "cell_type": "code",
      "source": [
        "print(df.isna().sum())"
      ],
      "metadata": {
        "colab": {
          "base_uri": "https://localhost:8080/"
        },
        "id": "iYFUOWRz-DJL",
        "outputId": "4cf9a10c-8f56-48c6-e6ca-4519ca3a7ea9"
      },
      "execution_count": null,
      "outputs": [
        {
          "output_type": "stream",
          "name": "stdout",
          "text": [
            "Cust. No        0\n",
            "XCOORD          0\n",
            "YCOORD          0\n",
            "DEMAND          0\n",
            "READY_TIME      0\n",
            "DUE_DATE        0\n",
            "SERVICE_TIME    0\n",
            "dtype: int64\n"
          ]
        }
      ]
    },
    {
      "cell_type": "code",
      "source": [
        "sns.scatterplot( x= df['XCOORD'],y = df['YCOORD'])"
      ],
      "metadata": {
        "colab": {
          "base_uri": "https://localhost:8080/",
          "height": 297
        },
        "id": "L6k7TH4RPi3v",
        "outputId": "c0c95736-021f-490e-900f-1a2a3d8ab13f"
      },
      "execution_count": null,
      "outputs": [
        {
          "output_type": "execute_result",
          "data": {
            "text/plain": [
              "<matplotlib.axes._subplots.AxesSubplot at 0x7ff900897750>"
            ]
          },
          "metadata": {},
          "execution_count": 249
        },
        {
          "output_type": "display_data",
          "data": {
            "text/plain": [
              "<Figure size 432x288 with 1 Axes>"
            ],
            "image/png": "[encoded data removed]"
          },
          "metadata": {
            "needs_background": "light"
          }
        }
      ]
    },
    {
      "cell_type": "code",
      "source": [
        "df.describe()"
      ],
      "metadata": {
        "colab": {
          "base_uri": "https://localhost:8080/",
          "height": 300
        },
        "id": "uP6JcY-2-RFH",
        "outputId": "c5f09aba-3f34-4b92-8a95-96c37f54413f"
      },
      "execution_count": null,
      "outputs": [
        {
          "output_type": "execute_result",
          "data": {
            "text/plain": [
              "         Cust. No      XCOORD      YCOORD      DEMAND  READY_TIME    DUE_DATE  \\\n",
              "count  101.000000  101.000000  101.000000  101.000000  101.000000  101.000000   \n",
              "mean    51.000000   40.089109   44.495050   17.069307  367.504950  495.821782   \n",
              "std     29.300171   25.153170   24.365395    9.526025  231.613541  233.359996   \n",
              "min      1.000000    0.000000    3.000000    0.000000    0.000000  131.000000   \n",
              "25%     26.000000   20.000000   29.000000   10.000000  175.000000  311.000000   \n",
              "50%     51.000000   40.000000   42.000000   16.000000  349.000000  472.000000   \n",
              "75%     76.000000   58.000000   60.000000   20.000000  557.000000  682.000000   \n",
              "max    101.000000   95.000000   85.000000   40.000000  822.000000  960.000000   \n",
              "\n",
              "       SERVICE_TIME  \n",
              "count    101.000000  \n",
              "mean       9.900990  \n",
              "std        0.995037  \n",
              "min        0.000000  \n",
              "25%       10.000000  \n",
              "50%       10.000000  \n",
              "75%       10.000000  \n",
              "max       10.000000  "
            ],
            "text/html": [
              "\n",
              "  <div id=\"df-b0641b6c-5291-40b5-8f19-bf02082ed40c\">\n",
              "    <div class=\"colab-df-container\">\n",
              "      <div>\n",
              "<style scoped>\n",
              "    .dataframe tbody tr th:only-of-type {\n",
              "        vertical-align: middle;\n",
              "    }\n",
              "\n",
              "    .dataframe tbody tr th {\n",
              "        vertical-align: top;\n",
              "    }\n",
              "\n",
              "    .dataframe thead th {\n",
              "        text-align: right;\n",
              "    }\n",
              "</style>\n",
              "<table border=\"1\" class=\"dataframe\">\n",
              "  <thead>\n",
              "    <tr style=\"text-align: right;\">\n",
              "      <th></th>\n",
              "      <th>Cust. No</th>\n",
              "      <th>XCOORD</th>\n",
              "      <th>YCOORD</th>\n",
              "      <th>DEMAND</th>\n",
              "      <th>READY_TIME</th>\n",
              "      <th>DUE_DATE</th>\n",
              "      <th>SERVICE_TIME</th>\n",
              "    </tr>\n",
              "  </thead>\n",
              "  <tbody>\n",
              "    <tr>\n",
              "      <th>count</th>\n",
              "      <td>101.000000</td>\n",
              "      <td>101.000000</td>\n",
              "      <td>101.000000</td>\n",
              "      <td>101.000000</td>\n",
              "      <td>101.000000</td>\n",
              "      <td>101.000000</td>\n",
              "      <td>101.000000</td>\n",
              "    </tr>\n",
              "    <tr>\n",
              "      <th>mean</th>\n",
              "      <td>51.000000</td>\n",
              "      <td>40.089109</td>\n",
              "      <td>44.495050</td>\n",
              "      <td>17.069307</td>\n",
              "      <td>367.504950</td>\n",
              "      <td>495.821782</td>\n",
              "      <td>9.900990</td>\n",
              "    </tr>\n",
              "    <tr>\n",
              "      <th>std</th>\n",
              "      <td>29.300171</td>\n",
              "      <td>25.153170</td>\n",
              "      <td>24.365395</td>\n",
              "      <td>9.526025</td>\n",
              "      <td>231.613541</td>\n",
              "      <td>233.359996</td>\n",
              "      <td>0.995037</td>\n",
              "    </tr>\n",
              "    <tr>\n",
              "      <th>min</th>\n",
              "      <td>1.000000</td>\n",
              "      <td>0.000000</td>\n",
              "      <td>3.000000</td>\n",
              "      <td>0.000000</td>\n",
              "      <td>0.000000</td>\n",
              "      <td>131.000000</td>\n",
              "      <td>0.000000</td>\n",
              "    </tr>\n",
              "    <tr>\n",
              "      <th>25%</th>\n",
              "      <td>26.000000</td>\n",
              "      <td>20.000000</td>\n",
              "      <td>29.000000</td>\n",
              "      <td>10.000000</td>\n",
              "      <td>175.000000</td>\n",
              "      <td>311.000000</td>\n",
              "      <td>10.000000</td>\n",
              "    </tr>\n",
              "    <tr>\n",
              "      <th>50%</th>\n",
              "      <td>51.000000</td>\n",
              "      <td>40.000000</td>\n",
              "      <td>42.000000</td>\n",
              "      <td>16.000000</td>\n",
              "      <td>349.000000</td>\n",
              "      <td>472.000000</td>\n",
              "      <td>10.000000</td>\n",
              "    </tr>\n",
              "    <tr>\n",
              "      <th>75%</th>\n",
              "      <td>76.000000</td>\n",
              "      <td>58.000000</td>\n",
              "      <td>60.000000</td>\n",
              "      <td>20.000000</td>\n",
              "      <td>557.000000</td>\n",
              "      <td>682.000000</td>\n",
              "      <td>10.000000</td>\n",
              "    </tr>\n",
              "    <tr>\n",
              "      <th>max</th>\n",
              "      <td>101.000000</td>\n",
              "      <td>95.000000</td>\n",
              "      <td>85.000000</td>\n",
              "      <td>40.000000</td>\n",
              "      <td>822.000000</td>\n",
              "      <td>960.000000</td>\n",
              "      <td>10.000000</td>\n",
              "    </tr>\n",
              "  </tbody>\n",
              "</table>\n",
              "</div>\n",
              "      <button class=\"colab-df-convert\" onclick=\"convertToInteractive('df-b0641b6c-5291-40b5-8f19-bf02082ed40c')\"\n",
              "              title=\"Convert this dataframe to an interactive table.\"\n",
              "              style=\"display:none;\">\n",
              "        \n",
              "  <svg xmlns=\"http://www.w3.org/2000/svg\" height=\"24px\"viewBox=\"0 0 24 24\"\n",
              "       width=\"24px\">\n",
              "    <path d=\"M0 0h24v24H0V0z\" fill=\"none\"/>\n",
              "    <path d=\"M18.56 5.44l.94 2.06.94-2.06 2.06-.94-2.06-.94-.94-2.06-.94 2.06-2.06.94zm-11 1L8.5 8.5l.94-2.06 2.06-.94-2.06-.94L8.5 2.5l-.94 2.06-2.06.94zm10 10l.94 2.06.94-2.06 2.06-.94-2.06-.94-.94-2.06-.94 2.06-2.06.94z\"/><path d=\"M17.41 7.96l-1.37-1.37c-.4-.4-.92-.59-1.43-.59-.52 0-1.04.2-1.43.59L10.3 9.45l-7.72 7.72c-.78.78-.78 2.05 0 2.83L4 21.41c.39.39.9.59 1.41.59.51 0 1.02-.2 1.41-.59l7.78-7.78 2.81-2.81c.8-.78.8-2.07 0-2.86zM5.41 20L4 18.59l7.72-7.72 1.47 1.35L5.41 20z\"/>\n",
              "  </svg>\n",
              "      </button>\n",
              "      \n",
              "  <style>\n",
              "    .colab-df-container {\n",
              "      display:flex;\n",
              "      flex-wrap:wrap;\n",
              "      gap: 12px;\n",
              "    }\n",
              "\n",
              "    .colab-df-convert {\n",
              "      background-color: #E8F0FE;\n",
              "      border: none;\n",
              "      border-radius: 50%;\n",
              "      cursor: pointer;\n",
              "      display: none;\n",
              "      fill: #1967D2;\n",
              "      height: 32px;\n",
              "      padding: 0 0 0 0;\n",
              "      width: 32px;\n",
              "    }\n",
              "\n",
              "    .colab-df-convert:hover {\n",
              "      background-color: #E2EBFA;\n",
              "      box-shadow: 0px 1px 2px rgba(60, 64, 67, 0.3), 0px 1px 3px 1px rgba(60, 64, 67, 0.15);\n",
              "      fill: #174EA6;\n",
              "    }\n",
              "\n",
              "    [theme=dark] .colab-df-convert {\n",
              "      background-color: #3B4455;\n",
              "      fill: #D2E3FC;\n",
              "    }\n",
              "\n",
              "    [theme=dark] .colab-df-convert:hover {\n",
              "      background-color: #434B5C;\n",
              "      box-shadow: 0px 1px 3px 1px rgba(0, 0, 0, 0.15);\n",
              "      filter: drop-shadow(0px 1px 2px rgba(0, 0, 0, 0.3));\n",
              "      fill: #FFFFFF;\n",
              "    }\n",
              "  </style>\n",
              "\n",
              "      <script>\n",
              "        const buttonEl =\n",
              "          document.querySelector('#df-b0641b6c-5291-40b5-8f19-bf02082ed40c button.colab-df-convert');\n",
              "        buttonEl.style.display =\n",
              "          google.colab.kernel.accessAllowed ? 'block' : 'none';\n",
              "\n",
              "        async function convertToInteractive(key) {\n",
              "          const element = document.querySelector('#df-b0641b6c-5291-40b5-8f19-bf02082ed40c');\n",
              "          const dataTable =\n",
              "            await google.colab.kernel.invokeFunction('convertToInteractive',\n",
              "                                                     [key], {});\n",
              "          if (!dataTable) return;\n",
              "\n",
              "          const docLinkHtml = 'Like what you see? Visit the ' +\n",
              "            '<a target=\"_blank\" href=https://colab.research.google.com/notebooks/data_table.ipynb>data table notebook</a>'\n",
              "            + ' to learn more about interactive tables.';\n",
              "          element.innerHTML = '';\n",
              "          dataTable['output_type'] = 'display_data';\n",
              "          await google.colab.output.renderOutput(dataTable, element);\n",
              "          const docLink = document.createElement('div');\n",
              "          docLink.innerHTML = docLinkHtml;\n",
              "          element.appendChild(docLink);\n",
              "        }\n",
              "      </script>\n",
              "    </div>\n",
              "  </div>\n",
              "  "
            ]
          },
          "metadata": {},
          "execution_count": 250
        }
      ]
    },
    {
      "cell_type": "code",
      "source": [
        "minx = 0\n",
        "miny = 3\n",
        "\n",
        "maxx = 95\n",
        "maxy = 85\n",
        "\n",
        "depot_pos = ((maxx - minx)/2, (maxy - miny)/2)"
      ],
      "metadata": {
        "id": "OyoNq1gW-Zg9"
      },
      "execution_count": null,
      "outputs": []
    },
    {
      "cell_type": "code",
      "source": [
        "depot_pos"
      ],
      "metadata": {
        "colab": {
          "base_uri": "https://localhost:8080/"
        },
        "id": "w1V15NGQ-yxG",
        "outputId": "137acd5a-5b93-4603-b087-5cdddc3e0172"
      },
      "execution_count": null,
      "outputs": [
        {
          "output_type": "execute_result",
          "data": {
            "text/plain": [
              "(47.5, 41.0)"
            ]
          },
          "metadata": {},
          "execution_count": 252
        }
      ]
    },
    {
      "cell_type": "code",
      "source": [
        "df = df.append({'Cust. No': 0, 'XCOORD': depot_pos[0], 'YCOORD': depot_pos[1], 'DEMAND': 0,'READY_TIME': -1, 'DUE_DATE': -1, 'SERVICE_TIME': -1}, ignore_index = True)"
      ],
      "metadata": {
        "id": "Zd97Ek5X-zSC"
      },
      "execution_count": null,
      "outputs": []
    },
    {
      "cell_type": "code",
      "source": [
        "value = (df['XCOORD'] == 47.5) & (df['YCOORD'] == 41.0) \n",
        "df['color']= np.where( value==True , \"#9b59b6\", \"#3498db\")"
      ],
      "metadata": {
        "id": "jW9Dw8CODYba"
      },
      "execution_count": null,
      "outputs": []
    },
    {
      "cell_type": "code",
      "source": [
        "df"
      ],
      "metadata": {
        "colab": {
          "base_uri": "https://localhost:8080/",
          "height": 424
        },
        "id": "6Yr01K1MDirt",
        "outputId": "9d817d7b-a379-4cd3-c9e7-8eca5b477063"
      },
      "execution_count": null,
      "outputs": [
        {
          "output_type": "execute_result",
          "data": {
            "text/plain": [
              "     Cust. No  XCOORD  YCOORD  DEMAND  READY_TIME  DUE_DATE  SERVICE_TIME  \\\n",
              "0         1.0    40.0    50.0     0.0         0.0     960.0           0.0   \n",
              "1         2.0    25.0    85.0    20.0       673.0     793.0          10.0   \n",
              "2         3.0    22.0    75.0    30.0       152.0     272.0          10.0   \n",
              "3         4.0    22.0    85.0    10.0       471.0     591.0          10.0   \n",
              "4         5.0    20.0    80.0    40.0       644.0     764.0          10.0   \n",
              "..        ...     ...     ...     ...         ...       ...           ...   \n",
              "97       98.0     4.0    18.0    35.0       547.0     667.0          10.0   \n",
              "98       99.0    26.0    52.0     9.0       172.0     292.0          10.0   \n",
              "99      100.0    26.0    35.0    15.0       308.0     428.0          10.0   \n",
              "100     101.0    31.0    67.0     3.0       810.0     930.0          10.0   \n",
              "101       0.0    47.5    41.0     0.0        -1.0      -1.0          -1.0   \n",
              "\n",
              "       color  \n",
              "0    #3498db  \n",
              "1    #3498db  \n",
              "2    #3498db  \n",
              "3    #3498db  \n",
              "4    #3498db  \n",
              "..       ...  \n",
              "97   #3498db  \n",
              "98   #3498db  \n",
              "99   #3498db  \n",
              "100  #3498db  \n",
              "101  #9b59b6  \n",
              "\n",
              "[102 rows x 8 columns]"
            ],
            "text/html": [
              "\n",
              "  <div id=\"df-d53d2c5d-97f5-4bb8-af0f-b6948c4f0898\">\n",
              "    <div class=\"colab-df-container\">\n",
              "      <div>\n",
              "<style scoped>\n",
              "    .dataframe tbody tr th:only-of-type {\n",
              "        vertical-align: middle;\n",
              "    }\n",
              "\n",
              "    .dataframe tbody tr th {\n",
              "        vertical-align: top;\n",
              "    }\n",
              "\n",
              "    .dataframe thead th {\n",
              "        text-align: right;\n",
              "    }\n",
              "</style>\n",
              "<table border=\"1\" class=\"dataframe\">\n",
              "  <thead>\n",
              "    <tr style=\"text-align: right;\">\n",
              "      <th></th>\n",
              "      <th>Cust. No</th>\n",
              "      <th>XCOORD</th>\n",
              "      <th>YCOORD</th>\n",
              "      <th>DEMAND</th>\n",
              "      <th>READY_TIME</th>\n",
              "      <th>DUE_DATE</th>\n",
              "      <th>SERVICE_TIME</th>\n",
              "      <th>color</th>\n",
              "    </tr>\n",
              "  </thead>\n",
              "  <tbody>\n",
              "    <tr>\n",
              "      <th>0</th>\n",
              "      <td>1.0</td>\n",
              "      <td>40.0</td>\n",
              "      <td>50.0</td>\n",
              "      <td>0.0</td>\n",
              "      <td>0.0</td>\n",
              "      <td>960.0</td>\n",
              "      <td>0.0</td>\n",
              "      <td>#3498db</td>\n",
              "    </tr>\n",
              "    <tr>\n",
              "      <th>1</th>\n",
              "      <td>2.0</td>\n",
              "      <td>25.0</td>\n",
              "      <td>85.0</td>\n",
              "      <td>20.0</td>\n",
              "      <td>673.0</td>\n",
              "      <td>793.0</td>\n",
              "      <td>10.0</td>\n",
              "      <td>#3498db</td>\n",
              "    </tr>\n",
              "    <tr>\n",
              "      <th>2</th>\n",
              "      <td>3.0</td>\n",
              "      <td>22.0</td>\n",
              "      <td>75.0</td>\n",
              "      <td>30.0</td>\n",
              "      <td>152.0</td>\n",
              "      <td>272.0</td>\n",
              "      <td>10.0</td>\n",
              "      <td>#3498db</td>\n",
              "    </tr>\n",
              "    <tr>\n",
              "      <th>3</th>\n",
              "      <td>4.0</td>\n",
              "      <td>22.0</td>\n",
              "      <td>85.0</td>\n",
              "      <td>10.0</td>\n",
              "      <td>471.0</td>\n",
              "      <td>591.0</td>\n",
              "      <td>10.0</td>\n",
              "      <td>#3498db</td>\n",
              "    </tr>\n",
              "    <tr>\n",
              "      <th>4</th>\n",
              "      <td>5.0</td>\n",
              "      <td>20.0</td>\n",
              "      <td>80.0</td>\n",
              "      <td>40.0</td>\n",
              "      <td>644.0</td>\n",
              "      <td>764.0</td>\n",
              "      <td>10.0</td>\n",
              "      <td>#3498db</td>\n",
              "    </tr>\n",
              "    <tr>\n",
              "      <th>...</th>\n",
              "      <td>...</td>\n",
              "      <td>...</td>\n",
              "      <td>...</td>\n",
              "      <td>...</td>\n",
              "      <td>...</td>\n",
              "      <td>...</td>\n",
              "      <td>...</td>\n",
              "      <td>...</td>\n",
              "    </tr>\n",
              "    <tr>\n",
              "      <th>97</th>\n",
              "      <td>98.0</td>\n",
              "      <td>4.0</td>\n",
              "      <td>18.0</td>\n",
              "      <td>35.0</td>\n",
              "      <td>547.0</td>\n",
              "      <td>667.0</td>\n",
              "      <td>10.0</td>\n",
              "      <td>#3498db</td>\n",
              "    </tr>\n",
              "    <tr>\n",
              "      <th>98</th>\n",
              "      <td>99.0</td>\n",
              "      <td>26.0</td>\n",
              "      <td>52.0</td>\n",
              "      <td>9.0</td>\n",
              "      <td>172.0</td>\n",
              "      <td>292.0</td>\n",
              "      <td>10.0</td>\n",
              "      <td>#3498db</td>\n",
              "    </tr>\n",
              "    <tr>\n",
              "      <th>99</th>\n",
              "      <td>100.0</td>\n",
              "      <td>26.0</td>\n",
              "      <td>35.0</td>\n",
              "      <td>15.0</td>\n",
              "      <td>308.0</td>\n",
              "      <td>428.0</td>\n",
              "      <td>10.0</td>\n",
              "      <td>#3498db</td>\n",
              "    </tr>\n",
              "    <tr>\n",
              "      <th>100</th>\n",
              "      <td>101.0</td>\n",
              "      <td>31.0</td>\n",
              "      <td>67.0</td>\n",
              "      <td>3.0</td>\n",
              "      <td>810.0</td>\n",
              "      <td>930.0</td>\n",
              "      <td>10.0</td>\n",
              "      <td>#3498db</td>\n",
              "    </tr>\n",
              "    <tr>\n",
              "      <th>101</th>\n",
              "      <td>0.0</td>\n",
              "      <td>47.5</td>\n",
              "      <td>41.0</td>\n",
              "      <td>0.0</td>\n",
              "      <td>-1.0</td>\n",
              "      <td>-1.0</td>\n",
              "      <td>-1.0</td>\n",
              "      <td>#9b59b6</td>\n",
              "    </tr>\n",
              "  </tbody>\n",
              "</table>\n",
              "<p>102 rows × 8 columns</p>\n",
              "</div>\n",
              "      <button class=\"colab-df-convert\" onclick=\"convertToInteractive('df-d53d2c5d-97f5-4bb8-af0f-b6948c4f0898')\"\n",
              "              title=\"Convert this dataframe to an interactive table.\"\n",
              "              style=\"display:none;\">\n",
              "        \n",
              "  <svg xmlns=\"http://www.w3.org/2000/svg\" height=\"24px\"viewBox=\"0 0 24 24\"\n",
              "       width=\"24px\">\n",
              "    <path d=\"M0 0h24v24H0V0z\" fill=\"none\"/>\n",
              "    <path d=\"M18.56 5.44l.94 2.06.94-2.06 2.06-.94-2.06-.94-.94-2.06-.94 2.06-2.06.94zm-11 1L8.5 8.5l.94-2.06 2.06-.94-2.06-.94L8.5 2.5l-.94 2.06-2.06.94zm10 10l.94 2.06.94-2.06 2.06-.94-2.06-.94-.94-2.06-.94 2.06-2.06.94z\"/><path d=\"M17.41 7.96l-1.37-1.37c-.4-.4-.92-.59-1.43-.59-.52 0-1.04.2-1.43.59L10.3 9.45l-7.72 7.72c-.78.78-.78 2.05 0 2.83L4 21.41c.39.39.9.59 1.41.59.51 0 1.02-.2 1.41-.59l7.78-7.78 2.81-2.81c.8-.78.8-2.07 0-2.86zM5.41 20L4 18.59l7.72-7.72 1.47 1.35L5.41 20z\"/>\n",
              "  </svg>\n",
              "      </button>\n",
              "      \n",
              "  <style>\n",
              "    .colab-df-container {\n",
              "      display:flex;\n",
              "      flex-wrap:wrap;\n",
              "      gap: 12px;\n",
              "    }\n",
              "\n",
              "    .colab-df-convert {\n",
              "      background-color: #E8F0FE;\n",
              "      border: none;\n",
              "      border-radius: 50%;\n",
              "      cursor: pointer;\n",
              "      display: none;\n",
              "      fill: #1967D2;\n",
              "      height: 32px;\n",
              "      padding: 0 0 0 0;\n",
              "      width: 32px;\n",
              "    }\n",
              "\n",
              "    .colab-df-convert:hover {\n",
              "      background-color: #E2EBFA;\n",
              "      box-shadow: 0px 1px 2px rgba(60, 64, 67, 0.3), 0px 1px 3px 1px rgba(60, 64, 67, 0.15);\n",
              "      fill: #174EA6;\n",
              "    }\n",
              "\n",
              "    [theme=dark] .colab-df-convert {\n",
              "      background-color: #3B4455;\n",
              "      fill: #D2E3FC;\n",
              "    }\n",
              "\n",
              "    [theme=dark] .colab-df-convert:hover {\n",
              "      background-color: #434B5C;\n",
              "      box-shadow: 0px 1px 3px 1px rgba(0, 0, 0, 0.15);\n",
              "      filter: drop-shadow(0px 1px 2px rgba(0, 0, 0, 0.3));\n",
              "      fill: #FFFFFF;\n",
              "    }\n",
              "  </style>\n",
              "\n",
              "      <script>\n",
              "        const buttonEl =\n",
              "          document.querySelector('#df-d53d2c5d-97f5-4bb8-af0f-b6948c4f0898 button.colab-df-convert');\n",
              "        buttonEl.style.display =\n",
              "          google.colab.kernel.accessAllowed ? 'block' : 'none';\n",
              "\n",
              "        async function convertToInteractive(key) {\n",
              "          const element = document.querySelector('#df-d53d2c5d-97f5-4bb8-af0f-b6948c4f0898');\n",
              "          const dataTable =\n",
              "            await google.colab.kernel.invokeFunction('convertToInteractive',\n",
              "                                                     [key], {});\n",
              "          if (!dataTable) return;\n",
              "\n",
              "          const docLinkHtml = 'Like what you see? Visit the ' +\n",
              "            '<a target=\"_blank\" href=https://colab.research.google.com/notebooks/data_table.ipynb>data table notebook</a>'\n",
              "            + ' to learn more about interactive tables.';\n",
              "          element.innerHTML = '';\n",
              "          dataTable['output_type'] = 'display_data';\n",
              "          await google.colab.output.renderOutput(dataTable, element);\n",
              "          const docLink = document.createElement('div');\n",
              "          docLink.innerHTML = docLinkHtml;\n",
              "          element.appendChild(docLink);\n",
              "        }\n",
              "      </script>\n",
              "    </div>\n",
              "  </div>\n",
              "  "
            ]
          },
          "metadata": {},
          "execution_count": 255
        }
      ]
    },
    {
      "cell_type": "code",
      "source": [
        "df2 = pd.DataFrame({'Cust.No': [1.0, 2.0, 3.0], 'XCOORD': [40, 25, 22], 'YCOORD': [50, 85, 75]})"
      ],
      "metadata": {
        "id": "KNb-CrgRmCJH"
      },
      "execution_count": null,
      "outputs": []
    },
    {
      "cell_type": "code",
      "source": [
        "sns.scatterplot( x= df['XCOORD'],y = df['YCOORD'], hue = df['color'])"
      ],
      "metadata": {
        "colab": {
          "base_uri": "https://localhost:8080/",
          "height": 297
        },
        "id": "_w55XMXv_eIG",
        "outputId": "31a14e17-06b4-4072-d7bf-4843bfe00f8e"
      },
      "execution_count": null,
      "outputs": [
        {
          "output_type": "execute_result",
          "data": {
            "text/plain": [
              "<matplotlib.axes._subplots.AxesSubplot at 0x7ff90099f690>"
            ]
          },
          "metadata": {},
          "execution_count": 257
        },
        {
          "output_type": "display_data",
          "data": {
            "text/plain": [
              "<Figure size 432x288 with 1 Axes>"
            ],
            "image/png": "[encoded data removed]"
          },
          "metadata": {
            "needs_background": "light"
          }
        }
      ]
    },
    {
      "cell_type": "code",
      "source": [
        "df_dist =  df[['XCOORD', 'YCOORD']].copy()\n",
        "df_dist\n",
        "from scipy.spatial import distance_matrix\n",
        "\n",
        "matrix = pd.DataFrame(distance_matrix(df_dist.values, df_dist.values), index=df.index, columns=df.index)"
      ],
      "metadata": {
        "id": "LU8XhdMHNauU"
      },
      "execution_count": null,
      "outputs": []
    },
    {
      "cell_type": "code",
      "source": [
        "fleet = pd.DataFrame({\n",
        "    'Vehicle': [0, 1, 2, 3, 4],\n",
        "    'Capacity': [200, 300, 500, 1000, 100]})"
      ],
      "metadata": {
        "id": "k1fqzZubHkEN"
      },
      "execution_count": null,
      "outputs": []
    },
    {
      "cell_type": "code",
      "source": [
        "fleet"
      ],
      "metadata": {
        "colab": {
          "base_uri": "https://localhost:8080/",
          "height": 206
        },
        "id": "6ynB2waVHwrx",
        "outputId": "70a73849-1000-4e8b-df30-6749907dfbd6"
      },
      "execution_count": null,
      "outputs": [
        {
          "output_type": "execute_result",
          "data": {
            "text/plain": [
              "   Vehicle  Capacity\n",
              "0        0       200\n",
              "1        1       300\n",
              "2        2       500\n",
              "3        3      1000\n",
              "4        4       100"
            ],
            "text/html": [
              "\n",
              "  <div id=\"df-e111b50d-4600-4941-9c7a-0d0d0d1e9df8\">\n",
              "    <div class=\"colab-df-container\">\n",
              "      <div>\n",
              "<style scoped>\n",
              "    .dataframe tbody tr th:only-of-type {\n",
              "        vertical-align: middle;\n",
              "    }\n",
              "\n",
              "    .dataframe tbody tr th {\n",
              "        vertical-align: top;\n",
              "    }\n",
              "\n",
              "    .dataframe thead th {\n",
              "        text-align: right;\n",
              "    }\n",
              "</style>\n",
              "<table border=\"1\" class=\"dataframe\">\n",
              "  <thead>\n",
              "    <tr style=\"text-align: right;\">\n",
              "      <th></th>\n",
              "      <th>Vehicle</th>\n",
              "      <th>Capacity</th>\n",
              "    </tr>\n",
              "  </thead>\n",
              "  <tbody>\n",
              "    <tr>\n",
              "      <th>0</th>\n",
              "      <td>0</td>\n",
              "      <td>200</td>\n",
              "    </tr>\n",
              "    <tr>\n",
              "      <th>1</th>\n",
              "      <td>1</td>\n",
              "      <td>300</td>\n",
              "    </tr>\n",
              "    <tr>\n",
              "      <th>2</th>\n",
              "      <td>2</td>\n",
              "      <td>500</td>\n",
              "    </tr>\n",
              "    <tr>\n",
              "      <th>3</th>\n",
              "      <td>3</td>\n",
              "      <td>1000</td>\n",
              "    </tr>\n",
              "    <tr>\n",
              "      <th>4</th>\n",
              "      <td>4</td>\n",
              "      <td>100</td>\n",
              "    </tr>\n",
              "  </tbody>\n",
              "</table>\n",
              "</div>\n",
              "      <button class=\"colab-df-convert\" onclick=\"convertToInteractive('df-e111b50d-4600-4941-9c7a-0d0d0d1e9df8')\"\n",
              "              title=\"Convert this dataframe to an interactive table.\"\n",
              "              style=\"display:none;\">\n",
              "        \n",
              "  <svg xmlns=\"http://www.w3.org/2000/svg\" height=\"24px\"viewBox=\"0 0 24 24\"\n",
              "       width=\"24px\">\n",
              "    <path d=\"M0 0h24v24H0V0z\" fill=\"none\"/>\n",
              "    <path d=\"M18.56 5.44l.94 2.06.94-2.06 2.06-.94-2.06-.94-.94-2.06-.94 2.06-2.06.94zm-11 1L8.5 8.5l.94-2.06 2.06-.94-2.06-.94L8.5 2.5l-.94 2.06-2.06.94zm10 10l.94 2.06.94-2.06 2.06-.94-2.06-.94-.94-2.06-.94 2.06-2.06.94z\"/><path d=\"M17.41 7.96l-1.37-1.37c-.4-.4-.92-.59-1.43-.59-.52 0-1.04.2-1.43.59L10.3 9.45l-7.72 7.72c-.78.78-.78 2.05 0 2.83L4 21.41c.39.39.9.59 1.41.59.51 0 1.02-.2 1.41-.59l7.78-7.78 2.81-2.81c.8-.78.8-2.07 0-2.86zM5.41 20L4 18.59l7.72-7.72 1.47 1.35L5.41 20z\"/>\n",
              "  </svg>\n",
              "      </button>\n",
              "      \n",
              "  <style>\n",
              "    .colab-df-container {\n",
              "      display:flex;\n",
              "      flex-wrap:wrap;\n",
              "      gap: 12px;\n",
              "    }\n",
              "\n",
              "    .colab-df-convert {\n",
              "      background-color: #E8F0FE;\n",
              "      border: none;\n",
              "      border-radius: 50%;\n",
              "      cursor: pointer;\n",
              "      display: none;\n",
              "      fill: #1967D2;\n",
              "      height: 32px;\n",
              "      padding: 0 0 0 0;\n",
              "      width: 32px;\n",
              "    }\n",
              "\n",
              "    .colab-df-convert:hover {\n",
              "      background-color: #E2EBFA;\n",
              "      box-shadow: 0px 1px 2px rgba(60, 64, 67, 0.3), 0px 1px 3px 1px rgba(60, 64, 67, 0.15);\n",
              "      fill: #174EA6;\n",
              "    }\n",
              "\n",
              "    [theme=dark] .colab-df-convert {\n",
              "      background-color: #3B4455;\n",
              "      fill: #D2E3FC;\n",
              "    }\n",
              "\n",
              "    [theme=dark] .colab-df-convert:hover {\n",
              "      background-color: #434B5C;\n",
              "      box-shadow: 0px 1px 3px 1px rgba(0, 0, 0, 0.15);\n",
              "      filter: drop-shadow(0px 1px 2px rgba(0, 0, 0, 0.3));\n",
              "      fill: #FFFFFF;\n",
              "    }\n",
              "  </style>\n",
              "\n",
              "      <script>\n",
              "        const buttonEl =\n",
              "          document.querySelector('#df-e111b50d-4600-4941-9c7a-0d0d0d1e9df8 button.colab-df-convert');\n",
              "        buttonEl.style.display =\n",
              "          google.colab.kernel.accessAllowed ? 'block' : 'none';\n",
              "\n",
              "        async function convertToInteractive(key) {\n",
              "          const element = document.querySelector('#df-e111b50d-4600-4941-9c7a-0d0d0d1e9df8');\n",
              "          const dataTable =\n",
              "            await google.colab.kernel.invokeFunction('convertToInteractive',\n",
              "                                                     [key], {});\n",
              "          if (!dataTable) return;\n",
              "\n",
              "          const docLinkHtml = 'Like what you see? Visit the ' +\n",
              "            '<a target=\"_blank\" href=https://colab.research.google.com/notebooks/data_table.ipynb>data table notebook</a>'\n",
              "            + ' to learn more about interactive tables.';\n",
              "          element.innerHTML = '';\n",
              "          dataTable['output_type'] = 'display_data';\n",
              "          await google.colab.output.renderOutput(dataTable, element);\n",
              "          const docLink = document.createElement('div');\n",
              "          docLink.innerHTML = docLinkHtml;\n",
              "          element.appendChild(docLink);\n",
              "        }\n",
              "      </script>\n",
              "    </div>\n",
              "  </div>\n",
              "  "
            ]
          },
          "metadata": {},
          "execution_count": 260
        }
      ]
    },
    {
      "cell_type": "code",
      "source": [
        "class Simulation:\n",
        "  \n",
        "  def __init__(self, n_individuals, n_iterations, population):\n",
        "    self.n_individuals = n_individuals\n",
        "    self.n_iterations = n_iterations\n",
        "    self.population = population\n",
        "\n",
        " \n",
        "  def run(self):\n",
        "    self.population.initialize(self.n_individuals)\n",
        "\n",
        "    for i in range(self.n_iterations):\n",
        "      self.population.selection()\n",
        "      self.population.crossover()\n",
        "      self.population.mutation()\n",
        "    \n",
        "    tmp = self.population.get_best()\n",
        "    self.population.plot_solution(tmp)\n",
        "    "
      ],
      "metadata": {
        "id": "e7xJwUAUANkB"
      },
      "execution_count": null,
      "outputs": []
    },
    {
      "cell_type": "code",
      "source": [
        "class PopulationVRP:\n",
        "\n",
        "  def __init__(self, points, vehicles, distance_matrix, mutation_ratio):\n",
        "    self.points = points\n",
        "    self.n_points = points.shape[0]\n",
        "\n",
        "    self.vehicles = vehicles\n",
        "    self.n_vehicles = vehicles.shape[0]\n",
        "    self.distance_matrix = distance_matrix\n",
        "    self.mutation_ratio = mutation_ratio\n",
        "\n",
        "    self.objectives = [ self.objective_function_1, self.objective_function_2 ]\n",
        "\n",
        "  def initialize(self, n_individuals):\n",
        "    self.n_individuals = n_individuals\n",
        "    self.population = []\n",
        "    for i in range(self.n_individuals):\n",
        "      self.population.append(self.generate_chromosome())\n",
        "\n",
        "    self.childs = []\n",
        "    for i in range(self.n_individuals):\n",
        "      self.childs.append(self.generate_chromosome())\n",
        "\n",
        "    return self.population\n",
        "\n",
        "  def selection(self):\n",
        "    candidates = self.population + self.childs\n",
        "    candidates = sorted(candidates, key = cmp_to_key(self.compare))\n",
        "    \n",
        "    # Get the pareto Fronts\n",
        "    F = self.get_pareto_fronts(candidates)\n",
        "    x = []\n",
        "    y = []\n",
        "    for i in range(len(self.population)):\n",
        "       x.append(self.objective_function_1(self.population[i]))\n",
        "       y.append(self.objective_function_2(self.population[i]))\n",
        "    #print('Frente de Pareto')\n",
        "    #plt.scatter(x, y)\n",
        "    #plt.show()\n",
        "\n",
        "    # Obtain the new population with the first Paretos\n",
        "    new_population = []\n",
        "    minimum = min(len(F)-1, len(self.population))\n",
        "    for i in range(minimum):\n",
        "      new_population += F[i]\n",
        "\n",
        "    # Missing size is the missing elements that we have to fill in the new population\n",
        "    missing_size = len(self.population) - len(new_population)\n",
        "    \n",
        "    for i in range(missing_size):\n",
        "      new_population.append(F[-1][i])\n",
        "\n",
        "    self.population = new_population\n",
        "\n",
        "  def crossover(self):\n",
        "    offspring = []\n",
        "\n",
        "    for i in range(0,len(self.population),2):\n",
        "\n",
        "      child1 = []\n",
        "      child2 = []\n",
        "\n",
        "      chromosome1 = self.population[i].copy()\n",
        "      chromosome2 = self.population[i+1].copy()\n",
        "\n",
        "      chromosome1 = sorted(chromosome1)\n",
        "      chromosome2 = sorted(chromosome2)\n",
        "\n",
        "      for j in range(len(self.population[i])):\n",
        "        k = np.random.random()\n",
        "\n",
        "        if k > 0.5:\n",
        "          child1.append(chromosome2[j])\n",
        "          child2.append(chromosome1[j])\n",
        "        else:\n",
        "          child1.append(chromosome1[j])\n",
        "          child2.append(chromosome2[j])\n",
        "\n",
        "      offspring.append(child1)\n",
        "      offspring.append(child2)\n",
        "\n",
        "    self.childs = offspring\n",
        "\n",
        "  def mutation(self):\n",
        "    \n",
        "    for i in range(len(self.population)):\n",
        "      tmp = np.random.random()\n",
        "      if tmp < self.mutation_ratio:\n",
        "        for j in range(len(self.population[i])):\n",
        "          tmp = np.random.random()\n",
        "\n",
        "          if tmp < self.mutation_ratio:\n",
        "            self.population[i][j] = int(self.population[i][j]) + np.random.random()\n",
        "\n",
        "  def get_pareto_fronts(self, candidates):\n",
        "    p_fs = []\n",
        "    n = len(self.population)\n",
        "    cont = 0\n",
        "    tmp_population = candidates\n",
        "    while cont < n:\n",
        "      tmp_population, front = self.pareto_front(tmp_population)\n",
        "      cont += len(front)\n",
        "      p_fs.append(front)\n",
        "\n",
        "    return p_fs\n",
        "\n",
        "  def pareto_front(self, population):\n",
        "    remove = np.zeros(len(population))\n",
        "    f = []\n",
        "\n",
        "    for i in range(len(population)):\n",
        "      domina = True \n",
        "      for j in range(len(population)):\n",
        "        if i != j:\n",
        "          if (self.dominates(population[i], population[j]) == False and\n",
        "              self.dominates(population[j], population[i]) == True):\n",
        "            domina = False\n",
        "\n",
        "      if domina == True:\n",
        "        f.append(population[i])\n",
        "        remove[i] = 1\n",
        "\n",
        "    new_population = []\n",
        "    for i in range(len(population)):\n",
        "      if remove[i] == 0:\n",
        "        new_population.append(population[i])\n",
        "\n",
        "    return new_population, f\n",
        "\n",
        "  def dominates(self, chromosome_a, chromosome_b):\n",
        "    \"\"\"\n",
        "      Returns -1 if the chromosome A dominates the chromosome B, 1 if A dominates\n",
        "      B and 0 in the case all fitness functions of all objectives have the same\n",
        "      value. In this case we want to minimize both objective, thus, inequality\n",
        "      is lower than\n",
        "    \"\"\"\n",
        "    # print('Inside Dominates')\n",
        "    a_no_worse_b = 0\n",
        "    a_strictly_better_b = 0\n",
        "\n",
        "    for i in range(len(self.objectives)):\n",
        "      # If A is greater than B in at least one objective, means that it does not\n",
        "      # dominate B. \n",
        "      value1 = self.objectives[i](chromosome_a)\n",
        "      value2 = self.objectives[i](chromosome_b)\n",
        "\n",
        "      if value1 <= value2:\n",
        "        a_no_worse_b += 1\n",
        "        a_strictly_better_b += 1\n",
        "      elif value1 == value2:\n",
        "        a_no_worse_b += 1\n",
        "      else:\n",
        "        return False\n",
        "\n",
        "    return a_no_worse_b == len(self.objectives) and a_strictly_better_b >=1\n",
        "\n",
        "  def compare(self, chromosome_a, chromosome_b):\n",
        "    if self.objective_function_2(chromosome_a) < self.objective_function_2(chromosome_b):\n",
        "      return -1\n",
        "    \n",
        "    if self.objective_function_2(chromosome_a) == self.objective_function_2(chromosome_b):\n",
        "      return 0\n",
        "\n",
        "    return 1\n",
        "\n",
        "  def objective_function_1(self, chromosome):\n",
        "    int_list = []\n",
        "    for element in chromosome:\n",
        "      x = math.modf(element)\n",
        "      int_list.append(x[1])\n",
        "\n",
        "      num_value = len(set(int_list))\n",
        "\n",
        "    return num_value\n",
        "\n",
        "  def objective_function_2(self, chromosome):\n",
        "    path = self.generate_path(chromosome)\n",
        "\n",
        "    return self.cost_dist(path)\n",
        "\n",
        "  def cost_dist(self, subpath):\n",
        "    costo = []\n",
        "    for i in range(0,len(subpath)):\n",
        "      tmp_costo = 0\n",
        "      for j in range(0, len(subpath[i])):\n",
        "\n",
        "        index1 = subpath[i][j][1]\n",
        "        if subpath[i][j][1] != subpath[i][-1][1]:\n",
        "          index2 = subpath[i][j+1][1]\n",
        "        else:\n",
        "          index2 = index1\n",
        "        tmp_costo += self.distance_matrix[index1][index2]\n",
        "\n",
        "      costo.append(tmp_costo)\n",
        "    return max(costo)\n",
        "\n",
        "\n",
        "  def generate_chromosome(self):\n",
        "    chromosome = []\n",
        "    max_vehicles = np.random.randint(1, self.n_vehicles+1)\n",
        "    j = 0\n",
        "    for i in range(self.n_points):\n",
        "      city = np.random.random()\n",
        "      vehicle = j%max_vehicles\n",
        "      chromosome.append(vehicle + city)\n",
        "      j+=1\n",
        "\n",
        "    return chromosome\n",
        "\n",
        "\n",
        "  def generate_path(self, chromosome):\n",
        "    # Divide the paths into paths with same vehicle\n",
        "    subpaths = [ [(i, 29)] for i in range(self.n_vehicles) ]\n",
        "    \n",
        "    for i in range(self.n_vehicles):\n",
        "      subpaths[i].append((i + .9999999999, 29))\n",
        "\n",
        "    for i in range(len(chromosome)):\n",
        "      subpaths[int(chromosome[i])].append((chromosome[i], i))\n",
        "\n",
        "    # Sort the subpaths\n",
        "    for i in range(self.n_vehicles):\n",
        "      subpaths[i].sort()\n",
        "\n",
        "    return subpaths\n",
        "\n",
        "  def get_best(self):\n",
        "    F = self.pareto_front(self.population + self.childs)[1]\n",
        "\n",
        "    for i in range(len(F)):\n",
        "      print(F[i])\n",
        "      subpath = self.generate_path(F[i])\n",
        "      print('Distancia')\n",
        "      print(self.objective_function_2(F[i]))\n",
        "      self.plot_solution(subpath)\n",
        "\n",
        "    return subpath\n",
        "\n",
        "  def plot_solution(self, subpath):\n",
        "\n",
        "    i = 0\n",
        "    print(subpath)\n",
        "    for path in subpath:\n",
        "      points_x = []\n",
        "      points_y = []\n",
        "\n",
        "      for j in range(len(path)):\n",
        "        points_x.append(self.points['XCOORD'].iloc[path[j][1]])\n",
        "        points_y.append(self.points['YCOORD'].iloc[path[j][1]])\n",
        "      \n",
        "      plt.plot(points_x, points_y)\n",
        "      sns.scatterplot(x = points_x, y = points_y)\n",
        "\n",
        "      i+=1\n",
        "\n",
        "    plt.show()"
      ],
      "metadata": {
        "id": "XmBwa3AcCw0W"
      },
      "execution_count": null,
      "outputs": []
    },
    {
      "cell_type": "code",
      "source": [
        "population_vrp = PopulationVRP(\n",
        "    points = df[:30],\n",
        "    vehicles = fleet,\n",
        "    distance_matrix = matrix,\n",
        "    mutation_ratio = 0.99\n",
        ")"
      ],
      "metadata": {
        "id": "zt0bZPAcaKd2"
      },
      "execution_count": null,
      "outputs": []
    },
    {
      "cell_type": "code",
      "source": [
        "sim = Simulation(\n",
        "    n_individuals = 10,\n",
        "    n_iterations = 20,\n",
        "    population = population_vrp\n",
        ")"
      ],
      "metadata": {
        "id": "22p5S114aDqY"
      },
      "execution_count": null,
      "outputs": []
    },
    {
      "cell_type": "code",
      "source": [
        "sim.run()"
      ],
      "metadata": {
        "colab": {
          "base_uri": "https://localhost:8080/",
          "height": 1000
        },
        "id": "9eQgK1ZWapU4",
        "outputId": "a77404f8-7bcb-458a-fb6d-9daa595470d7"
      },
      "execution_count": null,
      "outputs": [
        {
          "output_type": "stream",
          "name": "stdout",
          "text": [
            "[0.05250067991184548, 0.3516543854652716, 0.20391946567291508, 0.06851047475916405, 0.48595368064980626, 0.598305808162805, 0.15438206024682088, 0.0782692294838272, 0.6197903312948213, 1.8170508014411233, 1.7812601711925997, 1.2098674130482294, 1.9121903371852507, 1.584942872703615, 1.2866477498526914, 1.1735165430919192, 1.6283685895675113, 1.9283479156485113, 2.3865362878165657, 2.5783044171276455, 2.8782668309054866, 2.329188644554972, 2.670898581833301, 2.5213529259614194, 2.0265215210309546, 3.8347433176791377, 3.5779965332001726, 3.2806968731519923, 3.151224249327484, 4.035163062279788]\n",
            "Distancia\n",
            "175.61061347936356\n",
            "[[(0, 29), (0.05250067991184548, 0), (0.06851047475916405, 3), (0.0782692294838272, 7), (0.15438206024682088, 6), (0.20391946567291508, 2), (0.3516543854652716, 1), (0.48595368064980626, 4), (0.598305808162805, 5), (0.6197903312948213, 8), (0.9999999999, 29)], [(1, 29), (1.1735165430919192, 15), (1.2098674130482294, 11), (1.2866477498526914, 14), (1.584942872703615, 13), (1.6283685895675113, 16), (1.7812601711925997, 10), (1.8170508014411233, 9), (1.9121903371852507, 12), (1.9283479156485113, 17), (1.9999999999, 29)], [(2, 29), (2.0265215210309546, 24), (2.329188644554972, 21), (2.3865362878165657, 18), (2.5213529259614194, 23), (2.5783044171276455, 19), (2.670898581833301, 22), (2.8782668309054866, 20), (2.9999999999, 29)], [(3, 29), (3.151224249327484, 28), (3.2806968731519923, 27), (3.5779965332001726, 26), (3.8347433176791377, 25), (3.9999999999, 29)], [(4, 29), (4.035163062279788, 29), (4.9999999999, 29)]]\n"
          ]
        },
        {
          "output_type": "display_data",
          "data": {
            "text/plain": [
              "<Figure size 432x288 with 1 Axes>"
            ],
            "image/png": "[encoded data removed]"
          },
          "metadata": {
            "needs_background": "light"
          }
        },
        {
          "output_type": "stream",
          "name": "stdout",
          "text": [
            "[0.04070090812459237, 0.11072477849237694, 0.11762272184894929, 0.063902195625407, 0.12962593256408272, 0.27276465950424533, 0.23703076270746604, 0.2532667719980113, 0.36158188772247757, 0.2927810867377164, 0.31076965938537227, 0.3199818873752005, 0.35074185487564813, 0.3938457570740076, 0.5322714811181773, 0.5401468253220357, 0.5678000752961996, 0.6482580578166257, 0.6744485944397183, 0.6789639306126983, 0.7116566492230695, 0.6987480214159487, 0.722320006038326, 0.730145346150279, 0.8069818238886329, 0.775671613267149, 0.9353267945158079, 0.8560469647029083, 0.9161054903773009, 0.9393027747126264]\n",
            "Distancia\n",
            "427.7402813470659\n",
            "[[(0, 29), (0.04070090812459237, 0), (0.063902195625407, 3), (0.11072477849237694, 1), (0.11762272184894929, 2), (0.12962593256408272, 4), (0.23703076270746604, 6), (0.2532667719980113, 7), (0.27276465950424533, 5), (0.2927810867377164, 9), (0.31076965938537227, 10), (0.3199818873752005, 11), (0.35074185487564813, 12), (0.36158188772247757, 8), (0.3938457570740076, 13), (0.5322714811181773, 14), (0.5401468253220357, 15), (0.5678000752961996, 16), (0.6482580578166257, 17), (0.6744485944397183, 18), (0.6789639306126983, 19), (0.6987480214159487, 21), (0.7116566492230695, 20), (0.722320006038326, 22), (0.730145346150279, 23), (0.775671613267149, 25), (0.8069818238886329, 24), (0.8560469647029083, 27), (0.9161054903773009, 28), (0.9353267945158079, 26), (0.9393027747126264, 29), (0.9999999999, 29)], [(1, 29), (1.9999999999, 29)], [(2, 29), (2.9999999999, 29)], [(3, 29), (3.9999999999, 29)], [(4, 29), (4.9999999999, 29)]]\n"
          ]
        },
        {
          "output_type": "display_data",
          "data": {
            "text/plain": [
              "<Figure size 432x288 with 1 Axes>"
            ],
            "image/png": "[encoded data removed]"
          },
          "metadata": {
            "needs_background": "light"
          }
        },
        {
          "output_type": "stream",
          "name": "stdout",
          "text": [
            "[0.034928632151580596, 0.028109134828880222, 0.12152326147429726, 0.260620898404169, 0.6898337493016434, 0.6976069870431688, 0.8745096781321486, 0.7923440537762718, 0.9834809586440043, 1.0082437270969673, 1.1574603612390568, 1.2553116380928775, 1.2408599529415443, 1.2573477215011146, 1.3324445457837917, 1.4931789243120503, 1.6927077638573826, 1.8862476910145443, 2.0730299980202354, 2.317900580569527, 2.558242423566335, 2.8386689633201114, 2.791132128088268, 2.8270129846340097, 2.9000705725061513, 3.268729738027001, 3.2974279985621453, 3.437223236031014, 3.663784757740984, 3.66944601105555]\n",
            "Distancia\n",
            "196.7454441429765\n",
            "[[(0, 29), (0.028109134828880222, 1), (0.034928632151580596, 0), (0.12152326147429726, 2), (0.260620898404169, 3), (0.6898337493016434, 4), (0.6976069870431688, 5), (0.7923440537762718, 7), (0.8745096781321486, 6), (0.9834809586440043, 8), (0.9999999999, 29)], [(1, 29), (1.0082437270969673, 9), (1.1574603612390568, 10), (1.2408599529415443, 12), (1.2553116380928775, 11), (1.2573477215011146, 13), (1.3324445457837917, 14), (1.4931789243120503, 15), (1.6927077638573826, 16), (1.8862476910145443, 17), (1.9999999999, 29)], [(2, 29), (2.0730299980202354, 18), (2.317900580569527, 19), (2.558242423566335, 20), (2.791132128088268, 22), (2.8270129846340097, 23), (2.8386689633201114, 21), (2.9000705725061513, 24), (2.9999999999, 29)], [(3, 29), (3.268729738027001, 25), (3.2974279985621453, 26), (3.437223236031014, 27), (3.663784757740984, 28), (3.66944601105555, 29), (3.9999999999, 29)], [(4, 29), (4.9999999999, 29)]]\n"
          ]
        },
        {
          "output_type": "display_data",
          "data": {
            "text/plain": [
              "<Figure size 432x288 with 1 Axes>"
            ],
            "image/png": "[encoded data removed]"
          },
          "metadata": {
            "needs_background": "light"
          }
        },
        {
          "output_type": "stream",
          "name": "stdout",
          "text": [
            "[[(0, 29), (0.028109134828880222, 1), (0.034928632151580596, 0), (0.12152326147429726, 2), (0.260620898404169, 3), (0.6898337493016434, 4), (0.6976069870431688, 5), (0.7923440537762718, 7), (0.8745096781321486, 6), (0.9834809586440043, 8), (0.9999999999, 29)], [(1, 29), (1.0082437270969673, 9), (1.1574603612390568, 10), (1.2408599529415443, 12), (1.2553116380928775, 11), (1.2573477215011146, 13), (1.3324445457837917, 14), (1.4931789243120503, 15), (1.6927077638573826, 16), (1.8862476910145443, 17), (1.9999999999, 29)], [(2, 29), (2.0730299980202354, 18), (2.317900580569527, 19), (2.558242423566335, 20), (2.791132128088268, 22), (2.8270129846340097, 23), (2.8386689633201114, 21), (2.9000705725061513, 24), (2.9999999999, 29)], [(3, 29), (3.268729738027001, 25), (3.2974279985621453, 26), (3.437223236031014, 27), (3.663784757740984, 28), (3.66944601105555, 29), (3.9999999999, 29)], [(4, 29), (4.9999999999, 29)]]\n"
          ]
        },
        {
          "output_type": "display_data",
          "data": {
            "text/plain": [
              "<Figure size 432x288 with 1 Axes>"
            ],
            "image/png": "[encoded data removed]"
          },
          "metadata": {
            "needs_background": "light"
          }
        }
      ]
    },
    {
      "cell_type": "code",
      "source": [],
      "metadata": {
        "id": "e38zcyEEfiac"
      },
      "execution_count": null,
      "outputs": []
    }
  ]
}